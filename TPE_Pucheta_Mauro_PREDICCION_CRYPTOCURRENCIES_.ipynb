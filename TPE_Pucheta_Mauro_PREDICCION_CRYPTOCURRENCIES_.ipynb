{
  "nbformat": 4,
  "nbformat_minor": 0,
  "metadata": {
    "colab": {
      "name": "TPE_Pucheta_Mauro_PREDICCION_CRYPTOCURRENCIES_.ipynb",
      "version": "0.3.2",
      "provenance": []
    },
    "kernelspec": {
      "name": "python3",
      "display_name": "Python 3"
    }
  },
  "cells": [
    {
      "metadata": {
        "id": "NTAYo9onbiX8",
        "colab_type": "text"
      },
      "cell_type": "markdown",
      "source": [
        "Prediccion de precios de cryptos. Usando protocolo 2 (normalizacion de ventanas en vez de normalizacion global).\n",
        "\n",
        "Pucheta Mauro.\n"
      ]
    },
    {
      "metadata": {
        "id": "ra2AJte6brHd",
        "colab_type": "text"
      },
      "cell_type": "markdown",
      "source": [
        "CARGA DE DATOS\n"
      ]
    },
    {
      "metadata": {
        "id": "WfngUeV5C39P",
        "colab_type": "code",
        "colab": {
          "resources": {
            "http://localhost:8080/nbextensions/google.colab/files.js": {
              "data": "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",
              "ok": true,
              "headers": [
                [
                  "content-type",
                  "application/javascript"
                ]
              ],
              "status": 200,
              "status_text": ""
            }
          },
          "base_uri": "https://localhost:8080/",
          "height": 89
        },
        "outputId": "96d71755-67bf-407f-f072-cae63d400401"
      },
      "cell_type": "code",
      "source": [
        "%matplotlib inline\n",
        "import numpy as np\n",
        "import matplotlib.pyplot as plt\n",
        "import os.path\n",
        "from sklearn.preprocessing import MinMaxScaler\n",
        "\n",
        "while not os.path.exists('datos_1h_limpios_V1.csv'):\n",
        "    #Si no está el archivo hay que subirlo. Solo para Google Colab!!\n",
        "    from google.colab import files\n",
        "    uploaded = files.upload()\n",
        "    for fn in uploaded.keys():\n",
        "        print('User uploaded file \"{name}\" with length {length} bytes'.format(name=fn, length=len(uploaded[fn])))\n",
        "### load in and normalize the dataset\n",
        "\n",
        "dataset = np.genfromtxt('datos_1h_limpios_V1.csv', delimiter=',')\n",
        "#datos tiene la forma Instancia X (date,timestamp(de la fecha),Open,\tHigh,\tLow,\tClose,\tVolume From,\tVolume To)\n",
        "#datos_1h tiene la forma timestamp,Open,High, Low,Close. volume from, volume to no es necesario la timestamp para predecir, pero si para plotear\n",
        "#una alternativa es usar pandas.read_csv(file) directamente y puedo trabajar con los labels."
      ],
      "execution_count": 1,
      "outputs": [
        {
          "output_type": "display_data",
          "data": {
            "text/html": [
              "\n",
              "     <input type=\"file\" id=\"files-89ab8c4f-4e31-4f18-8186-5892e2d8c363\" name=\"files[]\" multiple disabled />\n",
              "     <output id=\"result-89ab8c4f-4e31-4f18-8186-5892e2d8c363\">\n",
              "      Upload widget is only available when the cell has been executed in the\n",
              "      current browser session. Please rerun this cell to enable.\n",
              "      </output>\n",
              "      <script src=\"/nbextensions/google.colab/files.js\"></script> "
            ],
            "text/plain": [
              "<IPython.core.display.HTML object>"
            ]
          },
          "metadata": {
            "tags": []
          }
        },
        {
          "output_type": "stream",
          "text": [
            "Saving datos_1h_limpios_V1.csv to datos_1h_limpios_V1.csv\n",
            "User uploaded file \"datos_1h_limpios_V1.csv\" with length 557162 bytes\n"
          ],
          "name": "stdout"
        }
      ]
    },
    {
      "metadata": {
        "id": "wAy7P1OJbv1i",
        "colab_type": "text"
      },
      "cell_type": "markdown",
      "source": [
        "Definicion de datos, slices en porciones de training y test para el modelo. Algunas cosas parecen medias oscuras. Por ejemplo\n",
        "\n",
        "\n",
        "close=dataset[ : , 4]\n",
        "\n",
        "Esto es porque cuando se hizo un preprocesamiento de los datos, el valor de \"close\" de la cryptomoneda queda en la columna 4...."
      ]
    },
    {
      "metadata": {
        "id": "997fk49KDI5s",
        "colab_type": "code",
        "colab": {}
      },
      "cell_type": "code",
      "source": [
        "training_factor=0.7 # con 0.6 el 60% del total va para training\n",
        "\n",
        "\n",
        "timestamp=dataset[:,0] \n",
        "timestamp=timestamp[::-1] #invierto, porque las timestamps quedaban al revez\n",
        "\n",
        "\n",
        "close=dataset[:,4] \n",
        "close=close[::-1]\n",
        "\n",
        "\n",
        "train_test_frontera=int(len(close)*training_factor) #establezco la frontera de acuerdo al total de los datos y el porcentaje indicado en training_factor\n",
        "while((train_test_frontera%32)!=0): #habia un problema si los datos no se podian ddividir en 32 por el batch size de las LSTM\n",
        "  train_test_frontera+=1\n",
        "\n",
        "\n",
        "datos_train=close[:train_test_frontera]\n",
        "datos_test=close[train_test_frontera:]"
      ],
      "execution_count": 0,
      "outputs": []
    },
    {
      "metadata": {
        "id": "rY_rr-4nb8dq",
        "colab_type": "text"
      },
      "cell_type": "markdown",
      "source": [
        "Definicion de tratamiendo de normalizacion y de ventanas. Si bien se hizo PASOS_A_PREDECIR=1, se considera que es mejor no poenr otro valor\n",
        "(no predecir mas que el proximo paso)."
      ]
    },
    {
      "metadata": {
        "id": "QrCpNd0CEUbi",
        "colab_type": "code",
        "colab": {}
      },
      "cell_type": "code",
      "source": [
        "WINDOW_SIZE=8\n",
        "'''\n",
        "en cuantos pasos anteriores me baso para predecir, si los datos venian de a dias,\n",
        "window_size=7 me indica que me baso en los datos de la semana anterior para predecir\n",
        "'''\n",
        "\n",
        "PASOS_A_PREDECIR=1\n",
        "'''\n",
        "De acuerdo a cada cuanto se miden los datos puedo predecir N pasos a futuro (cada vez con menor certidumbre). \n",
        "Por ejemplo mediciones de un dia y pasos_a_predecir=1 indica que solo hago prediccion del siguiente dia considerando \n",
        "una ventana de window_size\n",
        "'''\n",
        "\n",
        "def normalizarWindow(scaler,datos, porcionX,porcionY):\n",
        "    scaler.fit(datos.reshape(-1,1))\n",
        "    nuevoX=scaler.transform(porcionX.reshape(-1,1))\n",
        "    nuevoY=scaler.transform(porcionY.reshape(-1,1))\n",
        "    return nuevoX,nuevoY\n",
        "  \n",
        "def desnormalizarData(scaler,data):\n",
        "    return scaler.inverse_transform(data) #o sea, puedo cambiar el scaler. \n",
        "  \n",
        "def separarEnWindows(datos, windowSize,pasosFuturos):\n",
        "  x=[]\n",
        "  y=[]\n",
        "  scaler= MinMaxScaler()\n",
        "  \n",
        "  for i in range(0,len(datos)-pasosFuturos-windowSize):\n",
        "      \n",
        "      nuevoX,nuevoY=normalizarWindow(scaler,datos[i:i+windowSize+PASOS_A_PREDECIR],datos[i:i+windowSize],datos[i+windowSize:i+windowSize+pasosFuturos])\n",
        "    \n",
        "      x.append(nuevoX)\n",
        "      y.append(nuevoY)\n",
        "\n",
        "      \n",
        "  \n",
        "  \n",
        "  x=np.asarray(x)\n",
        "  \n",
        "  x.shape=np.shape(x)[0:3]#son ventanas de window_size\n",
        " \n",
        "  y=np.asarray(y) #el output es un valor, que es el valor de prediccion de cierre\n",
        "  y.shape=np.shape(y)[0:2]\n",
        "  \n",
        "  return x,y\n",
        "\n",
        "x_train=[]\n",
        "y_train=[]\n",
        "x_test=[]\n",
        "y_test=[]\n",
        "\n",
        "#x,y=separarEnWindows(datos_train,WINDOW_SIZE,PASOS_A_PREDECIR)\n",
        "#si hago print(y.shape) sale (train_test_frontera-window_size,) pero tiene filas x WindowSize (pero es toda una lista, por lo que no hay varias columnas si no que es una sola columna?)\n",
        "\n",
        "x_train,y_train=separarEnWindows(datos_train,WINDOW_SIZE,PASOS_A_PREDECIR)\n",
        "\n",
        "x_test,y_test=separarEnWindows(datos_test,WINDOW_SIZE,PASOS_A_PREDECIR)\n"
      ],
      "execution_count": 0,
      "outputs": []
    },
    {
      "metadata": {
        "id": "ZySkPtYzcPSr",
        "colab_type": "text"
      },
      "cell_type": "markdown",
      "source": [
        "Definicion del modelo de prediccion. La arquitectura son varias layers de LSTM para predecir un unico valor (el siguiente valor en base a los anteriores).\n",
        "\n",
        "El early stopping esta por si se quiere dejar entrenando por muchos epochs.\n",
        "Como es un problema de regresion mas que de clasificacion, se usan metricas que miden una cierta diferencia con el valor real. El mas significativo era el mean_squared_error.\n",
        "\n"
      ]
    },
    {
      "metadata": {
        "id": "G2z1-492Hatx",
        "colab_type": "code",
        "outputId": "aa4eb74b-1291-4883-f4df-85b4d1905eea",
        "colab": {
          "base_uri": "https://localhost:8080/",
          "height": 289
        }
      },
      "cell_type": "code",
      "source": [
        "from keras.layers import Dense, LSTM, Input, Bidirectional, Conv1D,Flatten,BatchNormalization, Dropout, TimeDistributed, Activation,Lambda,RNN,GRU, RepeatVector\n",
        "from keras.models import Model, Sequential\n",
        "from keras.optimizers import RMSprop, Adam\n",
        "from keras.callbacks import ModelCheckpoint, EarlyStopping\n",
        "\n",
        "\n",
        "#HIPERPARAMETROS\n",
        "\n",
        "BATCH_SIZE=256\n",
        "EPOCHS=1500\n",
        "OPTIMIZER= RMSprop(lr=0.005, rho=0.9, epsilon=1e-08, decay=1e-6)\n",
        "LOSS='mean_squared_error'\n",
        "METRICS=['mean_squared_error']\n",
        "\n",
        "stopping=EarlyStopping(monitor='loss', min_delta=1e-6, patience=100, verbose=1, mode='auto', baseline=None, restore_best_weights=True)\n",
        "UNITS=WINDOW_SIZE*3\n",
        "\n",
        "i = Input(shape=(WINDOW_SIZE,1))\n",
        "l = LSTM(UNITS,unroll=True,return_sequences=True)(i)\n",
        "\n",
        "l = LSTM(UNITS,unroll=True,return_sequences=True)(l)\n",
        "d=  LSTM(1)(l)\n",
        "\n",
        "model= Model(inputs=i,outputs=d)\n",
        "\n",
        "model.summary()\n",
        "model.compile(loss=LOSS,optimizer=OPTIMIZER,metrics=METRICS)\n",
        "\n"
      ],
      "execution_count": 4,
      "outputs": [
        {
          "output_type": "stream",
          "text": [
            "Using TensorFlow backend.\n"
          ],
          "name": "stderr"
        },
        {
          "output_type": "stream",
          "text": [
            "_________________________________________________________________\n",
            "Layer (type)                 Output Shape              Param #   \n",
            "=================================================================\n",
            "input_1 (InputLayer)         (None, 8, 1)              0         \n",
            "_________________________________________________________________\n",
            "lstm_1 (LSTM)                (None, 8, 24)             2496      \n",
            "_________________________________________________________________\n",
            "lstm_2 (LSTM)                (None, 8, 24)             4704      \n",
            "_________________________________________________________________\n",
            "lstm_3 (LSTM)                (None, 1)                 104       \n",
            "=================================================================\n",
            "Total params: 7,304\n",
            "Trainable params: 7,304\n",
            "Non-trainable params: 0\n",
            "_________________________________________________________________\n"
          ],
          "name": "stdout"
        }
      ]
    },
    {
      "metadata": {
        "id": "pnn6DFmnQCsT",
        "colab_type": "code",
        "outputId": "60e0ff00-cb05-4f66-bba4-cadbec82040a",
        "colab": {
          "resources": {
            "http://localhost:8080/nbextensions/google.colab/files.js": {
              "data": "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",
              "ok": true,
              "headers": [
                [
                  "content-type",
                  "application/javascript"
                ]
              ],
              "status": 200,
              "status_text": ""
            }
          },
          "base_uri": "https://localhost:8080/",
          "height": 212
        }
      },
      "cell_type": "code",
      "source": [
        "\"\"\"\n",
        "h=model.fit(x_train,y_train,batch_size=BATCH_SIZE,epochs=EPOCHS,validation_data=[x_test,y_test],callbacks=[stopping])\n",
        "\n",
        "#GRAFICO DE PERDIDAS\n",
        "v_loss = h.history['val_loss']\n",
        "loss = h.history['loss']\n",
        "plt.plot(range(len(loss)), loss, '-r')\n",
        "plt.plot(range(len(v_loss)), v_loss, '-b')\n",
        "plt.xlabel('Epochs')\n",
        "plt.ylabel('Error')\n",
        "plt.show()\n",
        "\n",
        "\"\"\"\n",
        "#CARGAR MODELO\n",
        "\n",
        "from keras.models import model_from_json\n",
        "import numpy\n",
        "import os.path\n",
        "\n",
        "while not os.path.exists('model.json'):\n",
        "    #Si no está el archivo hay que subirlo. Solo para Google Colab!!\n",
        "    from google.colab import files\n",
        "    uploaded = files.upload()\n",
        "    for fn in uploaded.keys():\n",
        "        print('User uploaded file \"{name}\" with length {length} bytes'.format(name=fn, length=len(uploaded[fn])))\n",
        "\n",
        "while not os.path.exists('model.h5'):\n",
        "    #Si no está el archivo hay que subirlo. Solo para Google Colab!!\n",
        "    from google.colab import files\n",
        "    uploaded = files.upload()\n",
        "    for fn in uploaded.keys():\n",
        "        print('User uploaded file \"{name}\" with length {length} bytes'.format(name=fn, length=len(uploaded[fn])))\n",
        "\n",
        "          \n",
        "json_file = open('model.json', 'r')\n",
        "loaded_model_json = json_file.read()\n",
        "json_file.close()\n",
        "loaded_model = model_from_json(loaded_model_json)\n",
        "# load weights into new model\n",
        "loaded_model.load_weights(\"model.h5\")\n",
        "\n",
        "print(\"Loaded model from disk\")\n",
        "loaded_model.compile(loss=LOSS,optimizer=OPTIMIZER,metrics=METRICS)\n",
        "score = loaded_model.evaluate(x_test, y_test, verbose=0)\n",
        "for i in range(0,len(loaded_model.metrics_names)):\n",
        "  print(\"%s: %.2f%%\" % (loaded_model.metrics_names[i], score[i]*100))\n",
        "  \n",
        "model=loaded_model"
      ],
      "execution_count": 5,
      "outputs": [
        {
          "output_type": "display_data",
          "data": {
            "text/html": [
              "\n",
              "     <input type=\"file\" id=\"files-868f4eff-684c-4688-9bbf-48750378defa\" name=\"files[]\" multiple disabled />\n",
              "     <output id=\"result-868f4eff-684c-4688-9bbf-48750378defa\">\n",
              "      Upload widget is only available when the cell has been executed in the\n",
              "      current browser session. Please rerun this cell to enable.\n",
              "      </output>\n",
              "      <script src=\"/nbextensions/google.colab/files.js\"></script> "
            ],
            "text/plain": [
              "<IPython.core.display.HTML object>"
            ]
          },
          "metadata": {
            "tags": []
          }
        },
        {
          "output_type": "stream",
          "text": [
            "Saving model.json to model.json\n",
            "User uploaded file \"model.json\" with length 3114 bytes\n"
          ],
          "name": "stdout"
        },
        {
          "output_type": "display_data",
          "data": {
            "text/html": [
              "\n",
              "     <input type=\"file\" id=\"files-4e5c5cb4-bf86-4ef9-adb7-d317b3ab2b2d\" name=\"files[]\" multiple disabled />\n",
              "     <output id=\"result-4e5c5cb4-bf86-4ef9-adb7-d317b3ab2b2d\">\n",
              "      Upload widget is only available when the cell has been executed in the\n",
              "      current browser session. Please rerun this cell to enable.\n",
              "      </output>\n",
              "      <script src=\"/nbextensions/google.colab/files.js\"></script> "
            ],
            "text/plain": [
              "<IPython.core.display.HTML object>"
            ]
          },
          "metadata": {
            "tags": []
          }
        },
        {
          "output_type": "stream",
          "text": [
            "Saving model.h5 to model.h5\n",
            "User uploaded file \"model.h5\" with length 45392 bytes\n",
            "Loaded model from disk\n",
            "loss: 7.46%\n",
            "mean_squared_error: 7.46%\n"
          ],
          "name": "stdout"
        }
      ]
    },
    {
      "metadata": {
        "id": "jejDlDFIcUMZ",
        "colab_type": "text"
      },
      "cell_type": "markdown",
      "source": [
        "Lo siguiente es para abstraer el manejo de la entrada. El modelo necesita de 3 dimensiones, y poner a cada rato x.reshape(1,WINDOW_SIZE,1) dificultaba la lectura del codigo"
      ]
    },
    {
      "metadata": {
        "id": "F6IIQAttQD2s",
        "colab_type": "code",
        "colab": {}
      },
      "cell_type": "code",
      "source": [
        "def transformarA3D(datos,dim1,dim2,dim3):\n",
        "  #la entrada del modelo requiere 3 dim\n",
        "  return datos.reshape(dim1,dim2,dim3)\n",
        "\n"
      ],
      "execution_count": 0,
      "outputs": []
    },
    {
      "metadata": {
        "id": "j3S4lyLhceGZ",
        "colab_type": "text"
      },
      "cell_type": "markdown",
      "source": [
        "PREDICCION COMPLETA. Cada punto se predice en base a los \"WINDOW_SIZE\" anteriores. Ej, si WINDOW_SIZE es 4, me baso en los 4 pasos anteriores para predecir el proximo valor. Notese que cada prediccion se hace en base a los valores reales. Por cada prediccion realizada muevo la ventana un paso en el futuro."
      ]
    },
    {
      "metadata": {
        "id": "oHP7uT0vHjSn",
        "colab_type": "code",
        "outputId": "3938e1fb-ee9c-4634-f011-2eaec05b4adc",
        "colab": {
          "base_uri": "https://localhost:8080/",
          "height": 279
        }
      },
      "cell_type": "code",
      "source": [
        "split_train = train_test_frontera - WINDOW_SIZE - PASOS_A_PREDECIR\n",
        "split_test = train_test_frontera + WINDOW_SIZE + PASOS_A_PREDECIR\n",
        "\n",
        "prediccion_train=[]\n",
        "prediccion_test=[]\n",
        "\n",
        "scaler=MinMaxScaler()\n",
        "datos=close #datos sin normalizar\n",
        "\n",
        "for i in range(WINDOW_SIZE,len(datos_train)-PASOS_A_PREDECIR):\n",
        "  porcion=datos_train[i-WINDOW_SIZE:i+PASOS_A_PREDECIR] \n",
        "  porcionX=porcion[:-PASOS_A_PREDECIR]\n",
        "  porcionY=porcion[-PASOS_A_PREDECIR:]\n",
        "\n",
        "  x,y=normalizarWindow(scaler,porcion,porcionX,porcionY)\n",
        "  x=transformarA3D(x,1,WINDOW_SIZE,PASOS_A_PREDECIR) #paso a representacion de instancia,ventana,valorPredicho\n",
        "  prediccion=model.predict(x)\n",
        "\n",
        "  prediccion_train.append(desnormalizarData(scaler,prediccion).reshape(PASOS_A_PREDECIR))\n",
        "  \n",
        "for i in range(WINDOW_SIZE,len(datos_test)-PASOS_A_PREDECIR):\n",
        "  porcion=datos_test[i-WINDOW_SIZE:i+PASOS_A_PREDECIR] \n",
        "  porcionX=porcion[:-PASOS_A_PREDECIR]\n",
        "  porcionY=porcion[-PASOS_A_PREDECIR:]\n",
        "\n",
        "  x,y=normalizarWindow(scaler,porcion,porcionX,porcionY)\n",
        "  x=transformarA3D(x,1,WINDOW_SIZE,PASOS_A_PREDECIR) #paso a representacion de instancia,ventana,valorPredicho\n",
        "  prediccion=model.predict(x)\n",
        "  \n",
        "  prediccion_test.append(desnormalizarData(scaler,prediccion).reshape(PASOS_A_PREDECIR))\n",
        "  \n",
        "\n",
        "plt.plot(timestamp,close,color='black') #son los datos originales del dataset\n",
        "plt.plot(timestamp[:split_train],prediccion_train,color = 'b') #imprime lo predicho sobre los datos de training\n",
        "\n",
        "# plot testing set prediction\n",
        "plt.plot(timestamp[split_test:],prediccion_test,color = 'r') #imprime lo predicho sobre los datos de testing\n",
        "\n",
        "\n",
        "plt.xlabel('time')\n",
        "plt.ylabel('precios normalizados')\n",
        "plt.legend(['original','training ','testing '],loc='center left', bbox_to_anchor=(1, 0.5))\n",
        "\n",
        "figura = plt.gcf()\n",
        "plt.show()"
      ],
      "execution_count": 7,
      "outputs": [
        {
          "output_type": "display_data",
          "data": {
            "image/png": "[encoded data removed]",
            "text/plain": [
              "<matplotlib.figure.Figure at 0x7f13760c48d0>"
            ]
          },
          "metadata": {
            "tags": []
          }
        }
      ]
    },
    {
      "metadata": {
        "id": "C4ofWesNc3ad",
        "colab_type": "text"
      },
      "cell_type": "markdown",
      "source": [
        "Lo proximo es la misma prediccion, del proximo valor en base a los valores reales. Sin embargo aca se permite ver de a segmentos mas chicos.\n",
        "Esto permite ver que en la imagen general la prediccion es perfecta, pero vista de a segmentos hay variaciones (en general, la curva predicha es mas suave que los valores reales)"
      ]
    },
    {
      "metadata": {
        "id": "jmIx55Q4RUdW",
        "colab_type": "code",
        "outputId": "50b893a0-61af-40d1-9dc3-c7d0a21aa929",
        "colab": {
          "base_uri": "https://localhost:8080/",
          "height": 279
        }
      },
      "cell_type": "code",
      "source": [
        "plt.clf()\n",
        "comienzoPlot=150\n",
        "finPlot=160\n",
        "\n",
        "\n",
        "datos=close  #datos sin normalizar\n",
        "plt.plot(timestamp[comienzoPlot:finPlot],datos[comienzoPlot:finPlot],color='black') #son los datos originales del dataset\n",
        "\n",
        "\n",
        "\n",
        "#debo normalizar las ventanas para predecir\n",
        "predicciones=[]\n",
        "\n",
        "scaler=MinMaxScaler()\n",
        "\n",
        "sliceDatos=datos[comienzoPlot-WINDOW_SIZE:finPlot+PASOS_A_PREDECIR] #si quiero predecir 150 a 600. tomo de 150-ventana (para predecir 150) hasta 600+PASOS. \n",
        "for i in range(WINDOW_SIZE,len(sliceDatos)-PASOS_A_PREDECIR):\n",
        "  porcion=sliceDatos[i-WINDOW_SIZE:i+PASOS_A_PREDECIR] \n",
        "  porcionX=porcion[:-PASOS_A_PREDECIR]\n",
        "  porcionY=porcion[-PASOS_A_PREDECIR:]\n",
        "\n",
        "  x,y=normalizarWindow(scaler,porcion,porcionX,porcionY)\n",
        "  x=transformarA3D(x,1,WINDOW_SIZE,PASOS_A_PREDECIR) #paso a representacion de instancia,ventana,valorPredicho\n",
        "  prediccion=model.predict(x)\n",
        "  \n",
        "  predicciones.append(desnormalizarData(scaler,prediccion).reshape(PASOS_A_PREDECIR))\n",
        " \n",
        "\n",
        "\n",
        "plt.plot(timestamp[comienzoPlot:finPlot],predicciones,color = 'r') \n",
        "\n",
        "\n",
        "\n",
        "\n",
        "\n",
        "\n",
        "plt.xlabel('time')\n",
        "plt.ylabel('precios ')\n",
        "plt.legend(['original','prediccion'],loc='center left', bbox_to_anchor=(1, 0.5))\n",
        "\n",
        "figura = plt.gcf()\n",
        "plt.show()"
      ],
      "execution_count": 8,
      "outputs": [
        {
          "output_type": "display_data",
          "data": {
            "image/png": "[encoded data removed]",
            "text/plain": [
              "<matplotlib.figure.Figure at 0x7f135ae51320>"
            ]
          },
          "metadata": {
            "tags": []
          }
        }
      ]
    },
    {
      "metadata": {
        "id": "cpGBT7EadMxU",
        "colab_type": "text"
      },
      "cell_type": "markdown",
      "source": [
        "Definicion de un segundo modelo, se va a utilizar para predecir en base a lo que predijo la red. Es decir, la salida de la red vuelve a ser input para seguir prediciendo en base a eso."
      ]
    },
    {
      "metadata": {
        "id": "RaQzuOpNWn_V",
        "colab_type": "code",
        "outputId": "2d2cf7cd-22e8-4e55-84e7-03261fcde563",
        "colab": {
          "base_uri": "https://localhost:8080/",
          "height": 272
        }
      },
      "cell_type": "code",
      "source": [
        "i = Input(batch_shape=(1,WINDOW_SIZE,1))\n",
        "\n",
        "l = LSTM(UNITS,unroll=True,return_sequences=True,stateful=True)(i) #ver de cambiar stateful=True\n",
        "\n",
        "l = LSTM(UNITS,unroll=True,return_sequences=True,stateful=True)(l)\n",
        "\n",
        "d = LSTM(1)(l)\n",
        "\n",
        "\n",
        "nuevoModel= Model(inputs=i,outputs=d)\n",
        "nuevoModel.summary()\n",
        "\n",
        "nuevoModel.set_weights(model.get_weights())\n",
        "\n"
      ],
      "execution_count": 9,
      "outputs": [
        {
          "output_type": "stream",
          "text": [
            "_________________________________________________________________\n",
            "Layer (type)                 Output Shape              Param #   \n",
            "=================================================================\n",
            "input_2 (InputLayer)         (1, 8, 1)                 0         \n",
            "_________________________________________________________________\n",
            "lstm_4 (LSTM)                (1, 8, 24)                2496      \n",
            "_________________________________________________________________\n",
            "lstm_5 (LSTM)                (1, 8, 24)                4704      \n",
            "_________________________________________________________________\n",
            "lstm_6 (LSTM)                (1, 1)                    104       \n",
            "=================================================================\n",
            "Total params: 7,304\n",
            "Trainable params: 7,304\n",
            "Non-trainable params: 0\n",
            "_________________________________________________________________\n"
          ],
          "name": "stdout"
        }
      ]
    },
    {
      "metadata": {
        "id": "7LdFzDLsdeI1",
        "colab_type": "text"
      },
      "cell_type": "markdown",
      "source": [
        "Generacion de datos a partir de la salida. En general lo que se hace es definir un punto de partida (frontera_predecir) a partir del cual empiezan las predicciones.\n",
        "\n",
        "Luego, para hacer cada prediccion se toma una ventana de datos. Esta ventana se particiona en una porcionX y una porcionY como se hacia antes. Lo unico que aca la porcionY no se utiliza.\n",
        "\n",
        "Se hace una prediccion en base a la porcionX y se la ubica como nuevo valor:\n",
        "\n",
        "\"predicciones_recurrentes[indiceDestinoStart:indiceDestinoFin]=desnormalizarData(scaler,pred) \"\n",
        "\n",
        "Este nuevo valor ya no es el real, si no una prediccion, y va a ser utilizada en la proxima iteracion para definir una nueva ventana (con una nueva normalizacion) para generar nuevas salidas.\n",
        "\n",
        "Se espera que en algun momento, si el numero de predicciones es muy grande, se estabilice la curva en algun valor.\n",
        "\n"
      ]
    },
    {
      "metadata": {
        "id": "LFPUK-esXonc",
        "colab_type": "code",
        "outputId": "5f3bc893-4fb5-494c-da58-f0ac8700ffa5",
        "colab": {
          "base_uri": "https://localhost:8080/",
          "height": 296
        }
      },
      "cell_type": "code",
      "source": [
        "numPredicciones=25\n",
        "frontera_predecir=2000\n",
        "datos=close\n",
        "scaler=MinMaxScaler()\n",
        "  \n",
        "predicciones_recurrentes=np.empty((len(datos),1)) #instancias,1 feature\n",
        "predicciones_recurrentes[:]=datos[:].reshape(len(datos),1) #toy manejando los datos tal cual estan en los datos, los datos puestos en ventanas son para training y predict. Aca estoy generando nuevos datos\n",
        "\n",
        "nuevoModel.reset_states()\n",
        "\n",
        "\n",
        "print(predicciones_recurrentes.shape)\n",
        "\n",
        "for i in range(0,numPredicciones):\n",
        " \n",
        "  indiceDestinoStart=frontera_predecir+i\n",
        "  indiceDestinoFin=frontera_predecir+i+PASOS_A_PREDECIR\n",
        "  indiceSourceVentanaStart=frontera_predecir-WINDOW_SIZE-1+i\n",
        "  indiceSourceVentanaFin=frontera_predecir+i\n",
        "  #hasta aca tengo ventanas, pero no estan normalizadas. Ademas, por cada nueva prediccion tengo que renormalizar\n",
        "  \n",
        "  \n",
        "  porcion=predicciones_recurrentes[indiceSourceVentanaStart:indiceSourceVentanaFin] \n",
        "  \n",
        "  porcionX=porcion[:-PASOS_A_PREDECIR]\n",
        "  porcionY=porcion[-PASOS_A_PREDECIR:] #esto es similar a lo anterior, solo que porcionY luego se va a pisar por la nueva prediccion\n",
        "  \n",
        "  \n",
        "  x,y=normalizarWindow(scaler,porcion,porcionX,porcionY)\n",
        "  x=transformarA3D(x,1,WINDOW_SIZE,PASOS_A_PREDECIR)\n",
        "  \n",
        "  pred=nuevoModel.predict(x)\n",
        "  predicciones_recurrentes[indiceDestinoStart:indiceDestinoFin]=desnormalizarData(scaler,pred) \n",
        "  \n",
        "plt.clf()\n",
        "\n",
        "\n",
        "plt.plot(timestamp[frontera_predecir:frontera_predecir+numPredicciones],datos[frontera_predecir:frontera_predecir+numPredicciones],color='black') #son los datos originales del dataset\n",
        "\n",
        "\n",
        "plt.plot(timestamp[frontera_predecir:frontera_predecir+numPredicciones],predicciones_recurrentes[frontera_predecir:frontera_predecir+numPredicciones],color = 'r') \n",
        "\n",
        "\n",
        "\n",
        "\n",
        "\n",
        "\n",
        "plt.xlabel('time')\n",
        "plt.ylabel('precios ')\n",
        "plt.legend(['original','prediccion '],loc='center left', bbox_to_anchor=(1, 0.5))\n",
        "\n",
        "figura = plt.gcf()\n",
        "plt.show()"
      ],
      "execution_count": 10,
      "outputs": [
        {
          "output_type": "stream",
          "text": [
            "(9353, 1)\n"
          ],
          "name": "stdout"
        },
        {
          "output_type": "display_data",
          "data": {
            "image/png": "[encoded data removed]",
            "text/plain": [
              "<matplotlib.figure.Figure at 0x7f136a788d30>"
            ]
          },
          "metadata": {
            "tags": []
          }
        }
      ]
    },
    {
      "metadata": {
        "id": "HkQgUdLwebYa",
        "colab_type": "text"
      },
      "cell_type": "markdown",
      "source": [
        "Lo siguiente se realiza para ver como se generan las predicciones a gran escala. Es parecido a lo anterior solo que cuando se genera una ventana nueva con datos predichos se resetean los datos con los originales (cada \"RESET\" predicciones). Es decir, se predicen segmentos de \"RESET\"  y luego se resetea para ver otros segmentos.\n",
        "\n",
        "Es como si definiera muchos puntos de partida, por cada punto de partida hago predicciones considerando la salida de la Red Neuronal. Una vez que llego al proximo punto de partida, no utilizo mas las predicciones hechas, si no que reestablezco los valores.\n",
        "\n",
        "Es mas de \"tendencias\" que de valores absolutos.\n",
        "\n"
      ]
    },
    {
      "metadata": {
        "id": "e36NcP9sZtEK",
        "colab_type": "code",
        "outputId": "2eeb8628-e835-4987-ef94-6474de33cf25",
        "colab": {
          "base_uri": "https://localhost:8080/",
          "height": 296
        }
      },
      "cell_type": "code",
      "source": [
        "numPredicciones=50\n",
        "frontera_predecir=2000\n",
        "RESET=8\n",
        "\n",
        "predicciones_recurrentes=np.empty((len(datos),1)) #instancias,1 feature\n",
        "predicciones_recurrentes[:]=datos[:].reshape(len(datos),1)\n",
        "\n",
        "\n",
        "\n",
        "\n",
        "print(predicciones_recurrentes.shape)\n",
        "\n",
        "predicciones_plot=[]\n",
        "\n",
        "for i in range(0,numPredicciones):\n",
        " \n",
        " \n",
        "\n",
        "    \n",
        "  indiceDestinoStart=frontera_predecir+i\n",
        "  indiceDestinoFin=frontera_predecir+i+PASOS_A_PREDECIR\n",
        "  indiceSourceVentanaStart=frontera_predecir-WINDOW_SIZE-1+i\n",
        "  indiceSourceVentanaFin=frontera_predecir+i\n",
        "  \n",
        "  if((i%(RESET))==0): #incluye reseteo en la primer ejecucion\n",
        "    nuevoModel.reset_states() #reseteo estados, no quiero que los estados que venian sean la proxima entrada. En la proxima predicción se van a setear nuevos estados\n",
        "    predicciones_recurrentes[:]=datos[:].reshape(len(datos),1) #reset de los datos para la proxima trend\n",
        "\n",
        "\n",
        "  \n",
        "  \n",
        "  scaler=MinMaxScaler()\n",
        "  porcion=predicciones_recurrentes[indiceSourceVentanaStart:indiceSourceVentanaFin] \n",
        "  \n",
        "  porcionX=porcion[:-PASOS_A_PREDECIR]\n",
        "  porcionY=porcion[-PASOS_A_PREDECIR:] #esto es similar a lo anterior, solo que porcionY luego se va a pisar por la nueva prediccion\n",
        "  \n",
        "  \n",
        "  x,y=normalizarWindow(scaler,porcion,porcionX,porcionY)\n",
        "  x=transformarA3D(x,1,WINDOW_SIZE,PASOS_A_PREDECIR)\n",
        "  \n",
        "  pred=nuevoModel.predict(x)\n",
        "  \n",
        "  pred=desnormalizarData(scaler,pred) \n",
        "  predicciones_recurrentes[indiceDestinoStart:indiceDestinoFin]=pred\n",
        "\n",
        "  predicciones_plot.append(pred)\n",
        "  #print(pred)\n",
        "\n",
        "\n",
        "  \n",
        "\n",
        "predicciones_plot=np.asarray(predicciones_plot).reshape(numPredicciones,1)\n",
        "\n",
        "plt.clf()\n",
        "\n",
        "\n",
        "plt.plot(timestamp[frontera_predecir:frontera_predecir+numPredicciones],datos[frontera_predecir:frontera_predecir+numPredicciones],color='black',linewidth=5) #son los datos originales del dataset\n",
        "\n",
        "\n",
        "split_pred=numPredicciones%RESET\n",
        "\n",
        "\n",
        "for i in range(0,numPredicciones-split_pred,RESET):\n",
        "  \n",
        "  plt.plot(timestamp[frontera_predecir+i:frontera_predecir+i+RESET],predicciones_plot[i:i+RESET],color = 'r') \n",
        "\n",
        "plt.plot(timestamp[frontera_predecir+numPredicciones-split_pred:frontera_predecir+numPredicciones],predicciones_plot[numPredicciones-split_pred:numPredicciones],color = 'r') #printeo lo que faltaba que no entraba en las window\n",
        "\n",
        "plt.xlabel('time')\n",
        "plt.ylabel('precios ')\n",
        "plt.legend(['original','prediccion '],loc='center left', bbox_to_anchor=(1, 0.5))\n",
        "\n",
        "figura = plt.gcf()\n",
        "plt.show()"
      ],
      "execution_count": 11,
      "outputs": [
        {
          "output_type": "stream",
          "text": [
            "(9353, 1)\n"
          ],
          "name": "stdout"
        },
        {
          "output_type": "display_data",
          "data": {
            "image/png": "[encoded data removed]",
            "text/plain": [
              "<matplotlib.figure.Figure at 0x7f1343f26630>"
            ]
          },
          "metadata": {
            "tags": []
          }
        }
      ]
    },
    {
      "metadata": {
        "id": "Imt9DNnMuUrI",
        "colab_type": "code",
        "outputId": "bf947646-ef18-4a4f-8f0c-d16cd194f239",
        "colab": {
          "base_uri": "https://localhost:8080/",
          "height": 54
        }
      },
      "cell_type": "code",
      "source": [
        "\"\"\"\n",
        "#GUARDAR MODELO\n",
        "\n",
        "# serialize model to JSON\n",
        "model_json = model.to_json()\n",
        "with open(\"model.json\", \"w\") as json_file:\n",
        "    json_file.write(model_json)\n",
        "# serialize weights to HDF5\n",
        "model.save_weights(\"model.h5\")\n",
        "print(\"Saved model to disk\")\n",
        "\n",
        "\n",
        "#despues poner que baje el archivo este \"model.h5\" que corre en esta maquina virtual que está corriendo\n",
        "#el jupyter notebook. Se baja mediante el colab.download que use en la clase 3\n",
        "from google.colab import files\n",
        "files.download(\"model.h5\")\n",
        "files.download(\"model.json\")\n",
        "\"\"\"\n"
      ],
      "execution_count": 12,
      "outputs": [
        {
          "output_type": "execute_result",
          "data": {
            "text/plain": [
              "'\\n#GUARDAR MODELO\\n\\n# serialize model to JSON\\nmodel_json = model.to_json()\\nwith open(\"model.json\", \"w\") as json_file:\\n    json_file.write(model_json)\\n# serialize weights to HDF5\\nmodel.save_weights(\"model.h5\")\\nprint(\"Saved model to disk\")\\n\\n\\n#despues poner que baje el archivo este \"model.h5\" que corre en esta maquina virtual que está corriendo\\n#el jupyter notebook. Se baja mediante el colab.download que use en la clase 3\\nfrom google.colab import files\\nfiles.download(\"model.h5\")\\nfiles.download(\"model.json\")\\n'"
            ]
          },
          "metadata": {
            "tags": []
          },
          "execution_count": 12
        }
      ]
    },
    {
      "metadata": {
        "id": "jr6AQMJ7RfkP",
        "colab_type": "code",
        "outputId": "e5154581-fd30-4aee-a25d-3948793d1de3",
        "colab": {
          "base_uri": "https://localhost:8080/",
          "height": 54
        }
      },
      "cell_type": "code",
      "source": [
        "\"\"\"\n",
        "#CARGAR MODELO\n",
        "\n",
        "from keras.models import model_from_json\n",
        "import numpy\n",
        "import os.path\n",
        "\n",
        "while not os.path.exists('model.json'):\n",
        "    #Si no está el archivo hay que subirlo. Solo para Google Colab!!\n",
        "    from google.colab import files\n",
        "    uploaded = files.upload()\n",
        "    for fn in uploaded.keys():\n",
        "        print('User uploaded file \"{name}\" with length {length} bytes'.format(name=fn, length=len(uploaded[fn])))\n",
        "\n",
        "while not os.path.exists('model.h5'):\n",
        "    #Si no está el archivo hay que subirlo. Solo para Google Colab!!\n",
        "    from google.colab import files\n",
        "    uploaded = files.upload()\n",
        "    for fn in uploaded.keys():\n",
        "        print('User uploaded file \"{name}\" with length {length} bytes'.format(name=fn, length=len(uploaded[fn])))\n",
        "\n",
        "          \n",
        "json_file = open('model.json', 'r')\n",
        "loaded_model_json = json_file.read()\n",
        "json_file.close()\n",
        "loaded_model = model_from_json(loaded_model_json)\n",
        "# load weights into new model\n",
        "loaded_model.load_weights(\"model.h5\")\n",
        "\n",
        "print(\"Loaded model from disk\")\n",
        "loaded_model.compile(loss=LOSS,optimizer=OPTIMIZER,metrics=METRICS)\n",
        "score = loaded_model.evaluate(x_test, y_test, verbose=0)\n",
        "for i in range(0,len(loaded_model.metrics_names)):\n",
        "  print(\"%s: %.2f%%\" % (loaded_model.metrics_names[i], score[i]*100))\n",
        "  \n",
        "  \n",
        "model=loaded_model\n",
        "\"\"\""
      ],
      "execution_count": 13,
      "outputs": [
        {
          "output_type": "execute_result",
          "data": {
            "text/plain": [
              "'\\n#CARGAR MODELO\\n\\nfrom keras.models import model_from_json\\nimport numpy\\nimport os.path\\n\\nwhile not os.path.exists(\\'model.json\\'):\\n    #Si no está el archivo hay que subirlo. Solo para Google Colab!!\\n    from google.colab import files\\n    uploaded = files.upload()\\n    for fn in uploaded.keys():\\n        print(\\'User uploaded file \"{name}\" with length {length} bytes\\'.format(name=fn, length=len(uploaded[fn])))\\n\\nwhile not os.path.exists(\\'model.h5\\'):\\n    #Si no está el archivo hay que subirlo. Solo para Google Colab!!\\n    from google.colab import files\\n    uploaded = files.upload()\\n    for fn in uploaded.keys():\\n        print(\\'User uploaded file \"{name}\" with length {length} bytes\\'.format(name=fn, length=len(uploaded[fn])))\\n\\n          \\njson_file = open(\\'model.json\\', \\'r\\')\\nloaded_model_json = json_file.read()\\njson_file.close()\\nloaded_model = model_from_json(loaded_model_json)\\n# load weights into new model\\nloaded_model.load_weights(\"model.h5\")\\n\\nprint(\"Loaded model from disk\")\\nloaded_model.compile(loss=LOSS,optimizer=OPTIMIZER,metrics=METRICS)\\nscore = loaded_model.evaluate(x_test, y_test, verbose=0)\\nfor i in range(0,len(loaded_model.metrics_names)):\\n  print(\"%s: %.2f%%\" % (loaded_model.metrics_names[i], score[i]*100))\\n  \\n  \\nmodel=loaded_model\\n'"
            ]
          },
          "metadata": {
            "tags": []
          },
          "execution_count": 13
        }
      ]
    }
  ]
}